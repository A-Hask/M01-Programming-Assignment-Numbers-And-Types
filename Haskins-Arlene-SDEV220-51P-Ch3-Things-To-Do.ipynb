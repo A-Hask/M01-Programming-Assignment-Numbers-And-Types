{
 "cells": [
  {
   "cell_type": "code",
   "execution_count": 1,
   "id": "f4cae4fc",
   "metadata": {},
   "outputs": [
    {
     "name": "stdout",
     "output_type": "stream",
     "text": [
      "24.0\n",
      "24\n"
     ]
    }
   ],
   "source": [
    "seconds = 60\n",
    "minutes = 60\n",
    "seconds_per_hour = seconds * minutes\n",
    "seconds_per_day = seconds_per_hour * 24\n",
    "fpdivision = seconds_per_day/seconds_per_hour\n",
    "idivision = seconds_per_day//seconds_per_hour\n",
    "print(fpdivision)\n",
    "print(idivision)"
   ]
  },
  {
   "cell_type": "code",
   "execution_count": null,
   "id": "398199cc",
   "metadata": {},
   "outputs": [],
   "source": []
  }
 ],
 "metadata": {
  "kernelspec": {
   "display_name": "Python 3 (ipykernel)",
   "language": "python",
   "name": "python3"
  },
  "language_info": {
   "codemirror_mode": {
    "name": "ipython",
    "version": 3
   },
   "file_extension": ".py",
   "mimetype": "text/x-python",
   "name": "python",
   "nbconvert_exporter": "python",
   "pygments_lexer": "ipython3",
   "version": "3.11.5"
  }
 },
 "nbformat": 4,
 "nbformat_minor": 5
}
